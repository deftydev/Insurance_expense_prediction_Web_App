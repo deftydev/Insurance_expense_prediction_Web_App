{
  "nbformat": 4,
  "nbformat_minor": 0,
  "metadata": {
    "colab": {
      "provenance": []
    },
    "kernelspec": {
      "name": "python3",
      "display_name": "Python 3"
    },
    "language_info": {
      "name": "python"
    }
  },
  "cells": [
    {
      "cell_type": "code",
      "execution_count": 2,
      "metadata": {
        "id": "gQNwKknk_PtR"
      },
      "outputs": [],
      "source": [
        "import pandas as pd\n",
        "import numpy as np\n",
        "from scipy.stats import ttest_ind\n",
        "import matplotlib.pyplot as plt\n",
        "import scipy.stats as stats\n",
        "\n",
        "\n",
        "%matplotlib inline"
      ]
    },
    {
      "cell_type": "code",
      "source": [
        "df = pd.read_csv(\"insurance.csv\")"
      ],
      "metadata": {
        "id": "-Gieb-Pq_wS4"
      },
      "execution_count": 3,
      "outputs": []
    },
    {
      "cell_type": "code",
      "source": [
        "df.corr()"
      ],
      "metadata": {
        "colab": {
          "base_uri": "https://localhost:8080/",
          "height": 229
        },
        "id": "0s4ErOC8_wVM",
        "outputId": "a9b391f7-e4eb-4909-ffca-128af637e33a"
      },
      "execution_count": 3,
      "outputs": [
        {
          "output_type": "stream",
          "name": "stderr",
          "text": [
            "<ipython-input-3-2f6f6606aa2c>:1: FutureWarning: The default value of numeric_only in DataFrame.corr is deprecated. In a future version, it will default to False. Select only valid columns or specify the value of numeric_only to silence this warning.\n",
            "  df.corr()\n"
          ]
        },
        {
          "output_type": "execute_result",
          "data": {
            "text/plain": [
              "               age       bmi  children  expenses\n",
              "age       1.000000  0.109341  0.042469  0.299008\n",
              "bmi       0.109341  1.000000  0.012645  0.198576\n",
              "children  0.042469  0.012645  1.000000  0.067998\n",
              "expenses  0.299008  0.198576  0.067998  1.000000"
            ],
            "text/html": [
              "\n",
              "\n",
              "  <div id=\"df-1f6ec11c-f8df-404c-b02c-59f75bd1e5c8\">\n",
              "    <div class=\"colab-df-container\">\n",
              "      <div>\n",
              "<style scoped>\n",
              "    .dataframe tbody tr th:only-of-type {\n",
              "        vertical-align: middle;\n",
              "    }\n",
              "\n",
              "    .dataframe tbody tr th {\n",
              "        vertical-align: top;\n",
              "    }\n",
              "\n",
              "    .dataframe thead th {\n",
              "        text-align: right;\n",
              "    }\n",
              "</style>\n",
              "<table border=\"1\" class=\"dataframe\">\n",
              "  <thead>\n",
              "    <tr style=\"text-align: right;\">\n",
              "      <th></th>\n",
              "      <th>age</th>\n",
              "      <th>bmi</th>\n",
              "      <th>children</th>\n",
              "      <th>expenses</th>\n",
              "    </tr>\n",
              "  </thead>\n",
              "  <tbody>\n",
              "    <tr>\n",
              "      <th>age</th>\n",
              "      <td>1.000000</td>\n",
              "      <td>0.109341</td>\n",
              "      <td>0.042469</td>\n",
              "      <td>0.299008</td>\n",
              "    </tr>\n",
              "    <tr>\n",
              "      <th>bmi</th>\n",
              "      <td>0.109341</td>\n",
              "      <td>1.000000</td>\n",
              "      <td>0.012645</td>\n",
              "      <td>0.198576</td>\n",
              "    </tr>\n",
              "    <tr>\n",
              "      <th>children</th>\n",
              "      <td>0.042469</td>\n",
              "      <td>0.012645</td>\n",
              "      <td>1.000000</td>\n",
              "      <td>0.067998</td>\n",
              "    </tr>\n",
              "    <tr>\n",
              "      <th>expenses</th>\n",
              "      <td>0.299008</td>\n",
              "      <td>0.198576</td>\n",
              "      <td>0.067998</td>\n",
              "      <td>1.000000</td>\n",
              "    </tr>\n",
              "  </tbody>\n",
              "</table>\n",
              "</div>\n",
              "      <button class=\"colab-df-convert\" onclick=\"convertToInteractive('df-1f6ec11c-f8df-404c-b02c-59f75bd1e5c8')\"\n",
              "              title=\"Convert this dataframe to an interactive table.\"\n",
              "              style=\"display:none;\">\n",
              "\n",
              "  <svg xmlns=\"http://www.w3.org/2000/svg\" height=\"24px\"viewBox=\"0 0 24 24\"\n",
              "       width=\"24px\">\n",
              "    <path d=\"M0 0h24v24H0V0z\" fill=\"none\"/>\n",
              "    <path d=\"M18.56 5.44l.94 2.06.94-2.06 2.06-.94-2.06-.94-.94-2.06-.94 2.06-2.06.94zm-11 1L8.5 8.5l.94-2.06 2.06-.94-2.06-.94L8.5 2.5l-.94 2.06-2.06.94zm10 10l.94 2.06.94-2.06 2.06-.94-2.06-.94-.94-2.06-.94 2.06-2.06.94z\"/><path d=\"M17.41 7.96l-1.37-1.37c-.4-.4-.92-.59-1.43-.59-.52 0-1.04.2-1.43.59L10.3 9.45l-7.72 7.72c-.78.78-.78 2.05 0 2.83L4 21.41c.39.39.9.59 1.41.59.51 0 1.02-.2 1.41-.59l7.78-7.78 2.81-2.81c.8-.78.8-2.07 0-2.86zM5.41 20L4 18.59l7.72-7.72 1.47 1.35L5.41 20z\"/>\n",
              "  </svg>\n",
              "      </button>\n",
              "\n",
              "\n",
              "\n",
              "    <div id=\"df-0b27055d-bd0a-4a59-b3fc-8c3a5dc6a088\">\n",
              "      <button class=\"colab-df-quickchart\" onclick=\"quickchart('df-0b27055d-bd0a-4a59-b3fc-8c3a5dc6a088')\"\n",
              "              title=\"Suggest charts.\"\n",
              "              style=\"display:none;\">\n",
              "\n",
              "<svg xmlns=\"http://www.w3.org/2000/svg\" height=\"24px\"viewBox=\"0 0 24 24\"\n",
              "     width=\"24px\">\n",
              "    <g>\n",
              "        <path d=\"M19 3H5c-1.1 0-2 .9-2 2v14c0 1.1.9 2 2 2h14c1.1 0 2-.9 2-2V5c0-1.1-.9-2-2-2zM9 17H7v-7h2v7zm4 0h-2V7h2v10zm4 0h-2v-4h2v4z\"/>\n",
              "    </g>\n",
              "</svg>\n",
              "      </button>\n",
              "    </div>\n",
              "\n",
              "<style>\n",
              "  .colab-df-quickchart {\n",
              "    background-color: #E8F0FE;\n",
              "    border: none;\n",
              "    border-radius: 50%;\n",
              "    cursor: pointer;\n",
              "    display: none;\n",
              "    fill: #1967D2;\n",
              "    height: 32px;\n",
              "    padding: 0 0 0 0;\n",
              "    width: 32px;\n",
              "  }\n",
              "\n",
              "  .colab-df-quickchart:hover {\n",
              "    background-color: #E2EBFA;\n",
              "    box-shadow: 0px 1px 2px rgba(60, 64, 67, 0.3), 0px 1px 3px 1px rgba(60, 64, 67, 0.15);\n",
              "    fill: #174EA6;\n",
              "  }\n",
              "\n",
              "  [theme=dark] .colab-df-quickchart {\n",
              "    background-color: #3B4455;\n",
              "    fill: #D2E3FC;\n",
              "  }\n",
              "\n",
              "  [theme=dark] .colab-df-quickchart:hover {\n",
              "    background-color: #434B5C;\n",
              "    box-shadow: 0px 1px 3px 1px rgba(0, 0, 0, 0.15);\n",
              "    filter: drop-shadow(0px 1px 2px rgba(0, 0, 0, 0.3));\n",
              "    fill: #FFFFFF;\n",
              "  }\n",
              "</style>\n",
              "\n",
              "    <script>\n",
              "      async function quickchart(key) {\n",
              "        const containerElement = document.querySelector('#' + key);\n",
              "        const charts = await google.colab.kernel.invokeFunction(\n",
              "            'suggestCharts', [key], {});\n",
              "      }\n",
              "    </script>\n",
              "\n",
              "      <script>\n",
              "\n",
              "function displayQuickchartButton(domScope) {\n",
              "  let quickchartButtonEl =\n",
              "    domScope.querySelector('#df-0b27055d-bd0a-4a59-b3fc-8c3a5dc6a088 button.colab-df-quickchart');\n",
              "  quickchartButtonEl.style.display =\n",
              "    google.colab.kernel.accessAllowed ? 'block' : 'none';\n",
              "}\n",
              "\n",
              "        displayQuickchartButton(document);\n",
              "      </script>\n",
              "      <style>\n",
              "    .colab-df-container {\n",
              "      display:flex;\n",
              "      flex-wrap:wrap;\n",
              "      gap: 12px;\n",
              "    }\n",
              "\n",
              "    .colab-df-convert {\n",
              "      background-color: #E8F0FE;\n",
              "      border: none;\n",
              "      border-radius: 50%;\n",
              "      cursor: pointer;\n",
              "      display: none;\n",
              "      fill: #1967D2;\n",
              "      height: 32px;\n",
              "      padding: 0 0 0 0;\n",
              "      width: 32px;\n",
              "    }\n",
              "\n",
              "    .colab-df-convert:hover {\n",
              "      background-color: #E2EBFA;\n",
              "      box-shadow: 0px 1px 2px rgba(60, 64, 67, 0.3), 0px 1px 3px 1px rgba(60, 64, 67, 0.15);\n",
              "      fill: #174EA6;\n",
              "    }\n",
              "\n",
              "    [theme=dark] .colab-df-convert {\n",
              "      background-color: #3B4455;\n",
              "      fill: #D2E3FC;\n",
              "    }\n",
              "\n",
              "    [theme=dark] .colab-df-convert:hover {\n",
              "      background-color: #434B5C;\n",
              "      box-shadow: 0px 1px 3px 1px rgba(0, 0, 0, 0.15);\n",
              "      filter: drop-shadow(0px 1px 2px rgba(0, 0, 0, 0.3));\n",
              "      fill: #FFFFFF;\n",
              "    }\n",
              "  </style>\n",
              "\n",
              "      <script>\n",
              "        const buttonEl =\n",
              "          document.querySelector('#df-1f6ec11c-f8df-404c-b02c-59f75bd1e5c8 button.colab-df-convert');\n",
              "        buttonEl.style.display =\n",
              "          google.colab.kernel.accessAllowed ? 'block' : 'none';\n",
              "\n",
              "        async function convertToInteractive(key) {\n",
              "          const element = document.querySelector('#df-1f6ec11c-f8df-404c-b02c-59f75bd1e5c8');\n",
              "          const dataTable =\n",
              "            await google.colab.kernel.invokeFunction('convertToInteractive',\n",
              "                                                     [key], {});\n",
              "          if (!dataTable) return;\n",
              "\n",
              "          const docLinkHtml = 'Like what you see? Visit the ' +\n",
              "            '<a target=\"_blank\" href=https://colab.research.google.com/notebooks/data_table.ipynb>data table notebook</a>'\n",
              "            + ' to learn more about interactive tables.';\n",
              "          element.innerHTML = '';\n",
              "          dataTable['output_type'] = 'display_data';\n",
              "          await google.colab.output.renderOutput(dataTable, element);\n",
              "          const docLink = document.createElement('div');\n",
              "          docLink.innerHTML = docLinkHtml;\n",
              "          element.appendChild(docLink);\n",
              "        }\n",
              "      </script>\n",
              "    </div>\n",
              "  </div>\n"
            ]
          },
          "metadata": {},
          "execution_count": 3
        }
      ]
    },
    {
      "cell_type": "code",
      "source": [],
      "metadata": {
        "id": "ryHrbQHGRixm"
      },
      "execution_count": null,
      "outputs": []
    },
    {
      "cell_type": "markdown",
      "source": [
        "- **Assumptions** needs to be checked first before applying hypothesis testing like for TTEST\n",
        "- **Independent** sample/random sample should ebe chosen from population\n",
        "- The data should be **normally distributed**\n",
        "**Homogenity of variance-** The variance should be equally distributed between each group"
      ],
      "metadata": {
        "id": "om-dPHq5RcIE"
      }
    },
    {
      "cell_type": "code",
      "source": [
        "grouped_data = [group['expenses'] for name, group in df.groupby('smoker')]\n",
        "\n",
        "\n",
        "for smoker, group in zip(df['smoker'].unique(), grouped_data):\n",
        "    shapiro_stat, shapiro_p = stats.shapiro(group)\n",
        "    print(f\"Shapiro-Wilk test for 'expenses' in {smoker} smoker:\")\n",
        "    print(\"Test Statistic =\", shapiro_stat)\n",
        "    print(\"p-value =\", shapiro_p)\n",
        "    print(\"Is the data normally distributed? (p-value < 0.05):\", shapiro_p < 0.05)\n",
        "    print()"
      ],
      "metadata": {
        "colab": {
          "base_uri": "https://localhost:8080/"
        },
        "id": "XNE9ituUPfLH",
        "outputId": "1e04eb56-627d-4a39-ece4-857de403c3bb"
      },
      "execution_count": 23,
      "outputs": [
        {
          "output_type": "stream",
          "name": "stdout",
          "text": [
            "Shapiro-Wilk test for 'expenses' in yes smoker:\n",
            "Test Statistic = 0.8728631138801575\n",
            "p-value = 1.4456972664537127e-28\n",
            "Is the data normally distributed? (p-value < 0.05): True\n",
            "\n",
            "Shapiro-Wilk test for 'expenses' in no smoker:\n",
            "Test Statistic = 0.9395526647567749\n",
            "p-value = 3.6255991542333277e-09\n",
            "Is the data normally distributed? (p-value < 0.05): True\n",
            "\n"
          ]
        }
      ]
    },
    {
      "cell_type": "code",
      "source": [
        "grouped_data"
      ],
      "metadata": {
        "colab": {
          "base_uri": "https://localhost:8080/"
        },
        "id": "OHJnDYONDCD9",
        "outputId": "c771f763-6841-4aa0-f5c6-83df05d8bd2a"
      },
      "execution_count": 20,
      "outputs": [
        {
          "output_type": "execute_result",
          "data": {
            "text/plain": [
              "[1        1725.55\n",
              " 2        4449.46\n",
              " 3       21984.47\n",
              " 4        3866.86\n",
              " 5        3756.62\n",
              "           ...   \n",
              " 1332    11411.69\n",
              " 1333    10600.55\n",
              " 1334     2205.98\n",
              " 1335     1629.83\n",
              " 1336     2007.95\n",
              " Name: expenses, Length: 1064, dtype: float64,\n",
              " 0       16884.92\n",
              " 11      27808.73\n",
              " 14      39611.76\n",
              " 19      36837.47\n",
              " 23      37701.88\n",
              "           ...   \n",
              " 1313    36397.58\n",
              " 1314    18765.88\n",
              " 1321    28101.33\n",
              " 1323    43896.38\n",
              " 1337    29141.36\n",
              " Name: expenses, Length: 274, dtype: float64]"
            ]
          },
          "metadata": {},
          "execution_count": 20
        }
      ]
    },
    {
      "cell_type": "code",
      "source": [
        "for name, group in df.groupby('smoker'):\n",
        "  print(name)\n",
        "  print(group)"
      ],
      "metadata": {
        "colab": {
          "base_uri": "https://localhost:8080/"
        },
        "id": "Xp4LCFnqCwBk",
        "outputId": "80c2e54d-5139-44e8-9e8d-7c729e2925ea"
      },
      "execution_count": 18,
      "outputs": [
        {
          "output_type": "stream",
          "name": "stdout",
          "text": [
            "no\n",
            "      age     sex   bmi  children smoker     region  expenses\n",
            "1      18    male  33.8         1     no  southeast   1725.55\n",
            "2      28    male  33.0         3     no  southeast   4449.46\n",
            "3      33    male  22.7         0     no  northwest  21984.47\n",
            "4      32    male  28.9         0     no  northwest   3866.86\n",
            "5      31  female  25.7         0     no  southeast   3756.62\n",
            "...   ...     ...   ...       ...    ...        ...       ...\n",
            "1332   52  female  44.7         3     no  southwest  11411.69\n",
            "1333   50    male  31.0         3     no  northwest  10600.55\n",
            "1334   18  female  31.9         0     no  northeast   2205.98\n",
            "1335   18  female  36.9         0     no  southeast   1629.83\n",
            "1336   21  female  25.8         0     no  southwest   2007.95\n",
            "\n",
            "[1064 rows x 7 columns]\n",
            "yes\n",
            "      age     sex   bmi  children smoker     region  expenses\n",
            "0      19  female  27.9         0    yes  southwest  16884.92\n",
            "11     62  female  26.3         0    yes  southeast  27808.73\n",
            "14     27    male  42.1         0    yes  southeast  39611.76\n",
            "19     30    male  35.3         0    yes  southwest  36837.47\n",
            "23     34  female  31.9         1    yes  northeast  37701.88\n",
            "...   ...     ...   ...       ...    ...        ...       ...\n",
            "1313   19  female  34.7         2    yes  southwest  36397.58\n",
            "1314   30  female  23.7         3    yes  northwest  18765.88\n",
            "1321   62    male  26.7         0    yes  northeast  28101.33\n",
            "1323   42  female  40.4         2    yes  southeast  43896.38\n",
            "1337   61  female  29.1         0    yes  northwest  29141.36\n",
            "\n",
            "[274 rows x 7 columns]\n"
          ]
        }
      ]
    },
    {
      "cell_type": "code",
      "source": [
        "# Perform Levene's test for homogeneity of variances\n",
        "levene_stat, levene_p = stats.levene(df['expenses'][df['smoker'] == 'no'],\n",
        "                                     df['expenses'][df['smoker'] == 'yes'])\n",
        "\n",
        "print(\"Levene's test for homogeneity of variances:\")\n",
        "print(\"Test Statistic =\", levene_stat)\n",
        "print(\"p-value =\", levene_p)\n",
        "print(\"Do groups have equal variances? (p-value >= 0.05):\", levene_p >= 0.05)"
      ],
      "metadata": {
        "colab": {
          "base_uri": "https://localhost:8080/"
        },
        "id": "I366wzlsUnf7",
        "outputId": "b3a01d78-44ac-4434-adc4-e977ee1ed02e"
      },
      "execution_count": 41,
      "outputs": [
        {
          "output_type": "stream",
          "name": "stdout",
          "text": [
            "Levene's test for homogeneity of variances:\n",
            "Test Statistic = 332.6135230494157\n",
            "p-value = 1.559324245141577e-66\n",
            "Do groups have equal variances? (p-value >= 0.05): False\n"
          ]
        }
      ]
    },
    {
      "cell_type": "code",
      "source": [
        "df['log_expenses'] = np.log(df['expenses'])"
      ],
      "metadata": {
        "id": "8GfoYVd4WGxs"
      },
      "execution_count": 43,
      "outputs": []
    },
    {
      "cell_type": "markdown",
      "source": [
        "**Dataset is normally distributted but homogenity of variance is voilated**"
      ],
      "metadata": {
        "id": "4sY-FKouVuXY"
      }
    },
    {
      "cell_type": "code",
      "source": [
        "# Perform Levene's test for homogeneity of variances\n",
        "levene_stat, levene_p = stats.levene(df['log_expenses'][df['smoker'] == 'no'],\n",
        "                                     df['log_expenses'][df['smoker'] == 'yes'])\n",
        "\n",
        "print(\"Levene's test for homogeneity of variances:\")\n",
        "print(\"Test Statistic =\", levene_stat)\n",
        "print(\"p-value =\", levene_p)\n",
        "print(\"Do groups have equal variances? (p-value >= 0.05):\", levene_p >= 0.05)"
      ],
      "metadata": {
        "colab": {
          "base_uri": "https://localhost:8080/"
        },
        "id": "1xgDttAsWLyf",
        "outputId": "be4e4956-ff42-4ee0-9622-6e9448478a5a"
      },
      "execution_count": 44,
      "outputs": [
        {
          "output_type": "stream",
          "name": "stdout",
          "text": [
            "Levene's test for homogeneity of variances:\n",
            "Test Statistic = 89.49619232212505\n",
            "p-value = 1.3326123871073872e-20\n",
            "Do groups have equal variances? (p-value >= 0.05): False\n"
          ]
        }
      ]
    },
    {
      "cell_type": "markdown",
      "source": [
        "**As the data is not following homogenity of variance you can't apply TTEST_IND , use kruskal test**"
      ],
      "metadata": {
        "id": "dk1KW_YKAg3p"
      }
    },
    {
      "cell_type": "code",
      "source": [
        "import pandas as pd\n",
        "import scipy.stats as stats\n",
        "\n",
        "\n",
        "data = pd.read_csv('insurance.csv')\n",
        "\n",
        "result = stats.kruskal(data['expenses'][data['smoker'] == 'no'],\n",
        "                        data['expenses'][data['smoker'] == 'yes'])\n",
        "\n",
        "print(\"Kruskal-Wallis Test:\")\n",
        "print(\"Test Statistic =\", result.statistic)\n",
        "print(\"p-value =\", result.pvalue)\n",
        "print(\"Are the medians significantly different? (p-value < 0.05):\", result.pvalue < 0.05)"
      ],
      "metadata": {
        "colab": {
          "base_uri": "https://localhost:8080/"
        },
        "id": "Ybnw3Vk4AXei",
        "outputId": "0e1309d8-1b18-405a-d0be-d31195728681"
      },
      "execution_count": 15,
      "outputs": [
        {
          "output_type": "stream",
          "name": "stdout",
          "text": [
            "Kruskal-Wallis Test:\n",
            "Test Statistic = 588.5196583657973\n",
            "p-value = 5.259018267498522e-130\n",
            "Are the medians significantly different? (p-value < 0.05): True\n"
          ]
        }
      ]
    },
    {
      "cell_type": "code",
      "source": [
        "## code for ttest_ind which can't be applied on it\n",
        "data_smokers= df[df['smoker']=='yes']['expenses']\n",
        "data_non_smokers = df[df['smoker']=='no']['expenses']\n",
        "_,p_value= ttest_ind(data_smokers , data_non_smokers)\n",
        "\n",
        "print(p_value)"
      ],
      "metadata": {
        "colab": {
          "base_uri": "https://localhost:8080/"
        },
        "id": "Ok1_ZdBf_wYs",
        "outputId": "a993770d-4e32-4a98-b072-3d2f7f538abe"
      },
      "execution_count": 4,
      "outputs": [
        {
          "output_type": "stream",
          "name": "stdout",
          "text": [
            "8.271449574495316e-283\n"
          ]
        }
      ]
    },
    {
      "cell_type": "code",
      "source": [
        "# Null hypothesis-> expenses of smokers and non smokers are equal, there is no significant difference\n",
        "#between them\n",
        "if p_value<0.05:\n",
        "  print(\"we reject the null hypothesis\")\n",
        "else:\n",
        "  print(\"we failed to reject the null hypothesis\")"
      ],
      "metadata": {
        "colab": {
          "base_uri": "https://localhost:8080/"
        },
        "id": "1r11sKdt_wi-",
        "outputId": "ddc1fc94-9f01-46eb-a855-064bdc92d70b"
      },
      "execution_count": 6,
      "outputs": [
        {
          "output_type": "stream",
          "name": "stdout",
          "text": [
            "we reject the null hypothesis\n"
          ]
        }
      ]
    },
    {
      "cell_type": "code",
      "source": [],
      "metadata": {
        "id": "k7LoPwmSRkiN"
      },
      "execution_count": null,
      "outputs": []
    },
    {
      "cell_type": "markdown",
      "source": [
        "we reject that expenses of smokers and non smokers are equal, there is a significant difference between them"
      ],
      "metadata": {
        "id": "T0-ekrEsArxB"
      }
    },
    {
      "cell_type": "code",
      "source": [
        "data_region = df['region'].value_counts()"
      ],
      "metadata": {
        "id": "g-qbhdFPA4Zm"
      },
      "execution_count": 7,
      "outputs": []
    },
    {
      "cell_type": "code",
      "source": [
        "data_region"
      ],
      "metadata": {
        "colab": {
          "base_uri": "https://localhost:8080/"
        },
        "id": "13BhoUMgA-Mk",
        "outputId": "3653341c-7147-4236-eea2-270738090852"
      },
      "execution_count": 8,
      "outputs": [
        {
          "output_type": "execute_result",
          "data": {
            "text/plain": [
              "southeast    364\n",
              "southwest    325\n",
              "northwest    325\n",
              "northeast    324\n",
              "Name: region, dtype: int64"
            ]
          },
          "metadata": {},
          "execution_count": 8
        }
      ]
    },
    {
      "cell_type": "code",
      "source": [],
      "metadata": {
        "id": "Eky99i4kRwVM"
      },
      "execution_count": null,
      "outputs": []
    },
    {
      "cell_type": "markdown",
      "source": [
        "- **CHI square** test to determine relation between two categorical variables"
      ],
      "metadata": {
        "id": "Vr7asM5LRo0h"
      }
    },
    {
      "cell_type": "code",
      "source": [
        "from scipy.stats import chi2_contingency\n",
        "#H0= There is no association between region and smoker\n",
        "\n",
        "contingency_table = pd.crosstab(df['region'], df['smoker'])\n",
        "contingency_table"
      ],
      "metadata": {
        "colab": {
          "base_uri": "https://localhost:8080/",
          "height": 206
        },
        "id": "rudH403aA-PA",
        "outputId": "59a33414-bc02-4464-fe94-0c1605385c46"
      },
      "execution_count": 11,
      "outputs": [
        {
          "output_type": "execute_result",
          "data": {
            "text/plain": [
              "smoker      no  yes\n",
              "region             \n",
              "northeast  257   67\n",
              "northwest  267   58\n",
              "southeast  273   91\n",
              "southwest  267   58"
            ],
            "text/html": [
              "\n",
              "\n",
              "  <div id=\"df-31c747d6-bb1b-4415-8cb9-681ce0f63532\">\n",
              "    <div class=\"colab-df-container\">\n",
              "      <div>\n",
              "<style scoped>\n",
              "    .dataframe tbody tr th:only-of-type {\n",
              "        vertical-align: middle;\n",
              "    }\n",
              "\n",
              "    .dataframe tbody tr th {\n",
              "        vertical-align: top;\n",
              "    }\n",
              "\n",
              "    .dataframe thead th {\n",
              "        text-align: right;\n",
              "    }\n",
              "</style>\n",
              "<table border=\"1\" class=\"dataframe\">\n",
              "  <thead>\n",
              "    <tr style=\"text-align: right;\">\n",
              "      <th>smoker</th>\n",
              "      <th>no</th>\n",
              "      <th>yes</th>\n",
              "    </tr>\n",
              "    <tr>\n",
              "      <th>region</th>\n",
              "      <th></th>\n",
              "      <th></th>\n",
              "    </tr>\n",
              "  </thead>\n",
              "  <tbody>\n",
              "    <tr>\n",
              "      <th>northeast</th>\n",
              "      <td>257</td>\n",
              "      <td>67</td>\n",
              "    </tr>\n",
              "    <tr>\n",
              "      <th>northwest</th>\n",
              "      <td>267</td>\n",
              "      <td>58</td>\n",
              "    </tr>\n",
              "    <tr>\n",
              "      <th>southeast</th>\n",
              "      <td>273</td>\n",
              "      <td>91</td>\n",
              "    </tr>\n",
              "    <tr>\n",
              "      <th>southwest</th>\n",
              "      <td>267</td>\n",
              "      <td>58</td>\n",
              "    </tr>\n",
              "  </tbody>\n",
              "</table>\n",
              "</div>\n",
              "      <button class=\"colab-df-convert\" onclick=\"convertToInteractive('df-31c747d6-bb1b-4415-8cb9-681ce0f63532')\"\n",
              "              title=\"Convert this dataframe to an interactive table.\"\n",
              "              style=\"display:none;\">\n",
              "\n",
              "  <svg xmlns=\"http://www.w3.org/2000/svg\" height=\"24px\"viewBox=\"0 0 24 24\"\n",
              "       width=\"24px\">\n",
              "    <path d=\"M0 0h24v24H0V0z\" fill=\"none\"/>\n",
              "    <path d=\"M18.56 5.44l.94 2.06.94-2.06 2.06-.94-2.06-.94-.94-2.06-.94 2.06-2.06.94zm-11 1L8.5 8.5l.94-2.06 2.06-.94-2.06-.94L8.5 2.5l-.94 2.06-2.06.94zm10 10l.94 2.06.94-2.06 2.06-.94-2.06-.94-.94-2.06-.94 2.06-2.06.94z\"/><path d=\"M17.41 7.96l-1.37-1.37c-.4-.4-.92-.59-1.43-.59-.52 0-1.04.2-1.43.59L10.3 9.45l-7.72 7.72c-.78.78-.78 2.05 0 2.83L4 21.41c.39.39.9.59 1.41.59.51 0 1.02-.2 1.41-.59l7.78-7.78 2.81-2.81c.8-.78.8-2.07 0-2.86zM5.41 20L4 18.59l7.72-7.72 1.47 1.35L5.41 20z\"/>\n",
              "  </svg>\n",
              "      </button>\n",
              "\n",
              "\n",
              "\n",
              "    <div id=\"df-884c1c0d-fdc0-4011-81e9-a30f03d7dc25\">\n",
              "      <button class=\"colab-df-quickchart\" onclick=\"quickchart('df-884c1c0d-fdc0-4011-81e9-a30f03d7dc25')\"\n",
              "              title=\"Suggest charts.\"\n",
              "              style=\"display:none;\">\n",
              "\n",
              "<svg xmlns=\"http://www.w3.org/2000/svg\" height=\"24px\"viewBox=\"0 0 24 24\"\n",
              "     width=\"24px\">\n",
              "    <g>\n",
              "        <path d=\"M19 3H5c-1.1 0-2 .9-2 2v14c0 1.1.9 2 2 2h14c1.1 0 2-.9 2-2V5c0-1.1-.9-2-2-2zM9 17H7v-7h2v7zm4 0h-2V7h2v10zm4 0h-2v-4h2v4z\"/>\n",
              "    </g>\n",
              "</svg>\n",
              "      </button>\n",
              "    </div>\n",
              "\n",
              "<style>\n",
              "  .colab-df-quickchart {\n",
              "    background-color: #E8F0FE;\n",
              "    border: none;\n",
              "    border-radius: 50%;\n",
              "    cursor: pointer;\n",
              "    display: none;\n",
              "    fill: #1967D2;\n",
              "    height: 32px;\n",
              "    padding: 0 0 0 0;\n",
              "    width: 32px;\n",
              "  }\n",
              "\n",
              "  .colab-df-quickchart:hover {\n",
              "    background-color: #E2EBFA;\n",
              "    box-shadow: 0px 1px 2px rgba(60, 64, 67, 0.3), 0px 1px 3px 1px rgba(60, 64, 67, 0.15);\n",
              "    fill: #174EA6;\n",
              "  }\n",
              "\n",
              "  [theme=dark] .colab-df-quickchart {\n",
              "    background-color: #3B4455;\n",
              "    fill: #D2E3FC;\n",
              "  }\n",
              "\n",
              "  [theme=dark] .colab-df-quickchart:hover {\n",
              "    background-color: #434B5C;\n",
              "    box-shadow: 0px 1px 3px 1px rgba(0, 0, 0, 0.15);\n",
              "    filter: drop-shadow(0px 1px 2px rgba(0, 0, 0, 0.3));\n",
              "    fill: #FFFFFF;\n",
              "  }\n",
              "</style>\n",
              "\n",
              "    <script>\n",
              "      async function quickchart(key) {\n",
              "        const containerElement = document.querySelector('#' + key);\n",
              "        const charts = await google.colab.kernel.invokeFunction(\n",
              "            'suggestCharts', [key], {});\n",
              "      }\n",
              "    </script>\n",
              "\n",
              "      <script>\n",
              "\n",
              "function displayQuickchartButton(domScope) {\n",
              "  let quickchartButtonEl =\n",
              "    domScope.querySelector('#df-884c1c0d-fdc0-4011-81e9-a30f03d7dc25 button.colab-df-quickchart');\n",
              "  quickchartButtonEl.style.display =\n",
              "    google.colab.kernel.accessAllowed ? 'block' : 'none';\n",
              "}\n",
              "\n",
              "        displayQuickchartButton(document);\n",
              "      </script>\n",
              "      <style>\n",
              "    .colab-df-container {\n",
              "      display:flex;\n",
              "      flex-wrap:wrap;\n",
              "      gap: 12px;\n",
              "    }\n",
              "\n",
              "    .colab-df-convert {\n",
              "      background-color: #E8F0FE;\n",
              "      border: none;\n",
              "      border-radius: 50%;\n",
              "      cursor: pointer;\n",
              "      display: none;\n",
              "      fill: #1967D2;\n",
              "      height: 32px;\n",
              "      padding: 0 0 0 0;\n",
              "      width: 32px;\n",
              "    }\n",
              "\n",
              "    .colab-df-convert:hover {\n",
              "      background-color: #E2EBFA;\n",
              "      box-shadow: 0px 1px 2px rgba(60, 64, 67, 0.3), 0px 1px 3px 1px rgba(60, 64, 67, 0.15);\n",
              "      fill: #174EA6;\n",
              "    }\n",
              "\n",
              "    [theme=dark] .colab-df-convert {\n",
              "      background-color: #3B4455;\n",
              "      fill: #D2E3FC;\n",
              "    }\n",
              "\n",
              "    [theme=dark] .colab-df-convert:hover {\n",
              "      background-color: #434B5C;\n",
              "      box-shadow: 0px 1px 3px 1px rgba(0, 0, 0, 0.15);\n",
              "      filter: drop-shadow(0px 1px 2px rgba(0, 0, 0, 0.3));\n",
              "      fill: #FFFFFF;\n",
              "    }\n",
              "  </style>\n",
              "\n",
              "      <script>\n",
              "        const buttonEl =\n",
              "          document.querySelector('#df-31c747d6-bb1b-4415-8cb9-681ce0f63532 button.colab-df-convert');\n",
              "        buttonEl.style.display =\n",
              "          google.colab.kernel.accessAllowed ? 'block' : 'none';\n",
              "\n",
              "        async function convertToInteractive(key) {\n",
              "          const element = document.querySelector('#df-31c747d6-bb1b-4415-8cb9-681ce0f63532');\n",
              "          const dataTable =\n",
              "            await google.colab.kernel.invokeFunction('convertToInteractive',\n",
              "                                                     [key], {});\n",
              "          if (!dataTable) return;\n",
              "\n",
              "          const docLinkHtml = 'Like what you see? Visit the ' +\n",
              "            '<a target=\"_blank\" href=https://colab.research.google.com/notebooks/data_table.ipynb>data table notebook</a>'\n",
              "            + ' to learn more about interactive tables.';\n",
              "          element.innerHTML = '';\n",
              "          dataTable['output_type'] = 'display_data';\n",
              "          await google.colab.output.renderOutput(dataTable, element);\n",
              "          const docLink = document.createElement('div');\n",
              "          docLink.innerHTML = docLinkHtml;\n",
              "          element.appendChild(docLink);\n",
              "        }\n",
              "      </script>\n",
              "    </div>\n",
              "  </div>\n"
            ]
          },
          "metadata": {},
          "execution_count": 11
        }
      ]
    },
    {
      "cell_type": "code",
      "source": [
        "chi2, p_value, dof, expected = chi2_contingency(contingency_table)"
      ],
      "metadata": {
        "id": "H5o2T5D8A-RM"
      },
      "execution_count": 12,
      "outputs": []
    },
    {
      "cell_type": "code",
      "source": [
        "print(\"Chi-Square Statistic:\", chi2)\n",
        "print(\"P-value:\", p_value)\n",
        "\n",
        "if p_value<0.05:\n",
        "  print(\"we reject the null hypothesis\")\n",
        "else:\n",
        "  print(\"we failed to reject the null hypothesis\")"
      ],
      "metadata": {
        "colab": {
          "base_uri": "https://localhost:8080/"
        },
        "id": "Flg6es9RBi-K",
        "outputId": "3291db33-d926-40d1-9973-f2363e7267df"
      },
      "execution_count": 14,
      "outputs": [
        {
          "output_type": "stream",
          "name": "stdout",
          "text": [
            "Chi-Square Statistic: 7.343477761407071\n",
            "P-value: 0.06171954839170541\n",
            "we failed to reject the null hypothesis\n"
          ]
        }
      ]
    },
    {
      "cell_type": "code",
      "source": [],
      "metadata": {
        "id": "fzvprKJ9RxqG"
      },
      "execution_count": null,
      "outputs": []
    },
    {
      "cell_type": "markdown",
      "source": [
        "- **Assumptions** needs to be checked first before applying hypothesis testing like for Anova\n",
        "- **Independent** sample/random sample should ebe chosen from population\n",
        "- The data should be **normally distributed**\n",
        "**Homogenity of variance-** The variance should be equally distributed between each group"
      ],
      "metadata": {
        "id": "Dw9HWlZeQ9OG"
      }
    },
    {
      "cell_type": "code",
      "source": [
        "import scipy.stats as stats\n",
        "import matplotlib.pyplot as plt\n",
        "# Assumption check for 'bmi' and 'expenses' columns\n",
        "columns_to_check = ['bmi', 'expenses']\n",
        "\n",
        "for column in columns_to_check:\n",
        "    # Shapiro-Wilk test for normality\n",
        "    shapiro_stat, shapiro_p = stats.shapiro(df[column])\n",
        "    print(f\"Shapiro-Wilk test for '{column}':\")\n",
        "    print(\"Test Statistic =\", shapiro_stat)\n",
        "    print(\"p-value =\", shapiro_p)\n",
        "    print(\"Is the data normally distributed? (p-value < 0.05):\", shapiro_p < 0.05)\n",
        "    print()\n"
      ],
      "metadata": {
        "colab": {
          "base_uri": "https://localhost:8080/"
        },
        "id": "AH9otMb4MnB8",
        "outputId": "62bb64a1-0bde-44ef-8fc3-f8f0b6f41867"
      },
      "execution_count": 27,
      "outputs": [
        {
          "output_type": "stream",
          "name": "stdout",
          "text": [
            "Shapiro-Wilk test for 'bmi':\n",
            "Test Statistic = 0.9938240051269531\n",
            "p-value = 2.3355698431259952e-05\n",
            "Is the data normally distributed? (p-value < 0.05): True\n",
            "\n",
            "Shapiro-Wilk test for 'expenses':\n",
            "Test Statistic = 0.8146882057189941\n",
            "p-value = 1.1505333015369624e-36\n",
            "Is the data normally distributed? (p-value < 0.05): True\n",
            "\n"
          ]
        }
      ]
    },
    {
      "cell_type": "code",
      "source": [
        "grouped_data = [group['expenses'] for name, group in df.groupby('region')]\n",
        "\n",
        "\n",
        "for region, group in zip(df['region'].unique(), grouped_data):\n",
        "    shapiro_stat, shapiro_p = stats.shapiro(group)\n",
        "    print(f\"Shapiro-Wilk test for 'expenses' in {region} region:\")\n",
        "    print(\"Test Statistic =\", shapiro_stat)\n",
        "    print(\"p-value =\", shapiro_p)\n",
        "    print(\"Is the data normally distributed? (p-value < 0.05):\", shapiro_p < 0.05)\n",
        "    print()"
      ],
      "metadata": {
        "colab": {
          "base_uri": "https://localhost:8080/"
        },
        "id": "ZqHW4vXKD6JR",
        "outputId": "e2c6f6f4-a85e-41bd-c9ea-abd0cdda4971"
      },
      "execution_count": 33,
      "outputs": [
        {
          "output_type": "stream",
          "name": "stdout",
          "text": [
            "Shapiro-Wilk test for 'expenses' in southwest region:\n",
            "Test Statistic = 0.8353429436683655\n",
            "p-value = 6.552730011610829e-18\n",
            "Is the data normally distributed? (p-value < 0.05): True\n",
            "\n",
            "Shapiro-Wilk test for 'expenses' in southeast region:\n",
            "Test Statistic = 0.8128034472465515\n",
            "p-value = 4.268497271524033e-19\n",
            "Is the data normally distributed? (p-value < 0.05): True\n",
            "\n",
            "Shapiro-Wilk test for 'expenses' in northwest region:\n",
            "Test Statistic = 0.8242297768592834\n",
            "p-value = 1.2326628686159026e-19\n",
            "Is the data normally distributed? (p-value < 0.05): True\n",
            "\n",
            "Shapiro-Wilk test for 'expenses' in northeast region:\n",
            "Test Statistic = 0.7842957377433777\n",
            "p-value = 2.0237754014695492e-20\n",
            "Is the data normally distributed? (p-value < 0.05): True\n",
            "\n"
          ]
        }
      ]
    },
    {
      "cell_type": "code",
      "source": [
        "# Perform Levene's test for homogeneity of variances\n",
        "levene_stat, levene_p = stats.levene(df['expenses'][df['region'] == 'northeast'],\n",
        "                                     df['expenses'][df['region'] == 'northwest'],\n",
        "                                     df['expenses'][df['region'] == 'southeast'],\n",
        "                                     df['expenses'][df['region'] == 'southwest'])\n",
        "\n",
        "print(\"Levene's test for homogeneity of variances:\")\n",
        "print(\"Test Statistic =\", levene_stat)\n",
        "print(\"p-value =\", levene_p)\n",
        "print(\"Do groups have equal variances? (p-value >= 0.05):\", levene_p >= 0.05)"
      ],
      "metadata": {
        "colab": {
          "base_uri": "https://localhost:8080/"
        },
        "id": "NHs8Ac6ZSi5g",
        "outputId": "96b28129-8d85-4eb3-96de-09e8807ae025"
      },
      "execution_count": 4,
      "outputs": [
        {
          "output_type": "stream",
          "name": "stdout",
          "text": [
            "Levene's test for homogeneity of variances:\n",
            "Test Statistic = 5.559967624103929\n",
            "p-value = 0.0008610579801088541\n",
            "Do groups have equal variances? (p-value >= 0.05): False\n"
          ]
        }
      ]
    },
    {
      "cell_type": "markdown",
      "source": [
        "Homogenoty of variance is voilated so you cant apply f_oneway use kruskal test"
      ],
      "metadata": {
        "id": "dUS8qYorAKlk"
      }
    },
    {
      "cell_type": "code",
      "source": [
        "import pandas as pd\n",
        "import scipy.stats as stats\n",
        "\n",
        "\n",
        "data = pd.read_csv('insurance.csv')\n",
        "\n",
        "result = stats.kruskal(data['expenses'][data['region'] == 'northeast'],\n",
        "                        data['expenses'][data['region'] == 'northwest'],\n",
        "                        data['expenses'][data['region'] == 'southeast'],\n",
        "                        data['expenses'][data['region'] == 'southwest'])\n",
        "\n",
        "print(\"Kruskal-Wallis Test:\")\n",
        "print(\"Test Statistic =\", result.statistic)\n",
        "print(\"p-value =\", result.pvalue)\n",
        "print(\"Are the medians significantly different? (p-value < 0.05):\", result.pvalue < 0.05)\n"
      ],
      "metadata": {
        "colab": {
          "base_uri": "https://localhost:8080/"
        },
        "id": "EZAeq3bK--cb",
        "outputId": "3d7d9175-badc-4c29-ab4e-b436ea67cb82"
      },
      "execution_count": 14,
      "outputs": [
        {
          "output_type": "stream",
          "name": "stdout",
          "text": [
            "Kruskal-Wallis Test:\n",
            "Test Statistic = 4.734181215658743\n",
            "p-value = 0.19232908072121002\n",
            "Are the medians significantly different? (p-value < 0.05): False\n"
          ]
        }
      ]
    },
    {
      "cell_type": "markdown",
      "source": [
        "**ANOVA TEST**"
      ],
      "metadata": {
        "id": "HcU0G6JrMkOw"
      }
    },
    {
      "cell_type": "code",
      "source": [
        "##one way anova can't be applied on it but to just to code we appled it\n",
        "from scipy.stats import f_oneway\n",
        "\n",
        "result = stats.f_oneway(df['expenses'][df['region'] == 'northeast'],\n",
        "                        df['expenses'][df['region'] == 'northwest'],\n",
        "                        df['expenses'][df['region'] == 'southeast'],\n",
        "                        df['expenses'][df['region'] == 'southwest'])\n",
        "\n",
        "print(\"Welch's ANOVA:\")\n",
        "print(\"Test Statistic =\", result.statistic)\n",
        "print(\"p-value =\", result.pvalue)\n",
        "print(\"Are the means significantly different? (p-value < 0.05):\", result.pvalue < 0.05)"
      ],
      "metadata": {
        "colab": {
          "base_uri": "https://localhost:8080/"
        },
        "id": "xNAsK8T3D6Ml",
        "outputId": "7632cf0f-52fe-40c8-e1fb-671d144e3cd8"
      },
      "execution_count": 5,
      "outputs": [
        {
          "output_type": "stream",
          "name": "stdout",
          "text": [
            "Welch's ANOVA:\n",
            "Test Statistic = 2.9696265038563223\n",
            "p-value = 0.030893363993447484\n",
            "Are the means significantly different? (p-value < 0.05): True\n"
          ]
        }
      ]
    },
    {
      "cell_type": "markdown",
      "source": [
        "Conclusion- All group means are not equal there is a different between means of each region based on expenses"
      ],
      "metadata": {
        "id": "H8h9nFVuExzh"
      }
    },
    {
      "cell_type": "code",
      "source": [
        " df.groupby('region')['expenses'].value_counts()"
      ],
      "metadata": {
        "colab": {
          "base_uri": "https://localhost:8080/"
        },
        "id": "NBOaFpm1FOHG",
        "outputId": "eb236eb5-5014-4483-be05-f56dfbc205bb"
      },
      "execution_count": 6,
      "outputs": [
        {
          "output_type": "execute_result",
          "data": {
            "text/plain": [
              "region     expenses\n",
              "northeast  1694.80     1\n",
              "           1702.46     1\n",
              "           1704.57     1\n",
              "           1704.70     1\n",
              "           1705.62     1\n",
              "                      ..\n",
              "southwest  47928.03    1\n",
              "           48173.36    1\n",
              "           48824.45    1\n",
              "           51194.56    1\n",
              "           52590.83    1\n",
              "Name: expenses, Length: 1337, dtype: int64"
            ]
          },
          "metadata": {},
          "execution_count": 6
        }
      ]
    },
    {
      "cell_type": "markdown",
      "source": [
        "**correlation test between BMI and expenses**"
      ],
      "metadata": {
        "id": "d3SrzIIPMcPt"
      }
    },
    {
      "cell_type": "code",
      "source": [
        "# Calculate Pearson correlation coefficient\n",
        "correlation_coefficient = df['bmi'].corr(df['expenses'])\n",
        "\n",
        "print(\"Pearson Correlation Coefficient between 'bmi' and 'expenses':\", correlation_coefficient)"
      ],
      "metadata": {
        "colab": {
          "base_uri": "https://localhost:8080/"
        },
        "id": "ZXc9TxbNFk3-",
        "outputId": "8b653111-275e-41c4-e286-33836ab3bc97"
      },
      "execution_count": 7,
      "outputs": [
        {
          "output_type": "stream",
          "name": "stdout",
          "text": [
            "Pearson Correlation Coefficient between 'bmi' and 'expenses': 0.19857625501893203\n"
          ]
        }
      ]
    },
    {
      "cell_type": "markdown",
      "source": [
        "value between -1 and 1, where 1 indicates a perfect positive correlation, -1 indicates a perfect negative correlation, and 0 indicates no correlation."
      ],
      "metadata": {
        "id": "PEhDFDQLMXEj"
      }
    },
    {
      "cell_type": "markdown",
      "source": [
        "**Spearman coefficient is calculated when the data is not linear or not normally distributed**"
      ],
      "metadata": {
        "id": "FQph6t01IuY_"
      }
    },
    {
      "cell_type": "code",
      "source": [
        "# Calculate Pearson correlation coefficient\n",
        "correlation_coefficient = df['bmi'].corr(df['expenses'], method='spearman')\n",
        "\n",
        "print(\"Pearson Correlation Coefficient between 'bmi' and 'expenses':\", correlation_coefficient)"
      ],
      "metadata": {
        "colab": {
          "base_uri": "https://localhost:8080/"
        },
        "id": "JIF81DkUMbJZ",
        "outputId": "e6fd1005-e665-4973-e2fd-1e5402aa1b90"
      },
      "execution_count": 24,
      "outputs": [
        {
          "output_type": "stream",
          "name": "stdout",
          "text": [
            "Pearson Correlation Coefficient between 'bmi' and 'expenses': 0.1194188536346528\n"
          ]
        }
      ]
    }
  ]
}